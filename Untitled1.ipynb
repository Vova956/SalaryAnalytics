{
  "nbformat": 4,
  "nbformat_minor": 0,
  "metadata": {
    "colab": {
      "provenance": []
    },
    "kernelspec": {
      "name": "python3",
      "display_name": "Python 3"
    },
    "language_info": {
      "name": "python"
    }
  },
  "cells": [
    {
      "cell_type": "markdown",
      "source": [
        "Open the data on Jupyter notebook, and plot the points with appropriate labels and title"
      ],
      "metadata": {
        "id": "4dckSCuGxR1e"
      }
    },
    {
      "cell_type": "code",
      "execution_count": 1,
      "metadata": {
        "colab": {
          "base_uri": "https://localhost:8080/",
          "height": 297
        },
        "id": "I-WxujVXxP7P",
        "outputId": "69a69725-acf7-48ec-ae37-256776696d8f"
      },
      "outputs": [
        {
          "output_type": "execute_result",
          "data": {
            "text/plain": [
              "Text(0, 0.5, 'Salaries')"
            ]
          },
          "metadata": {},
          "execution_count": 1
        },
        {
          "output_type": "display_data",
          "data": {
            "text/plain": [
              "<Figure size 432x288 with 1 Axes>"
            ],
            "image/png": "[encoded data removed]"
          },
          "metadata": {
            "needs_background": "light"
          }
        }
      ],
      "source": [
        "import csv \n",
        "import matplotlib.pyplot as plt \n",
        "\n",
        "filePath = \"/Salary_Data.csv\"\n",
        "\n",
        "with open(filePath) as file :\n",
        "    reader = csv.reader(file)\n",
        "    header = next(reader)\n",
        "    data = []\n",
        "    for row in reader :\n",
        "        data.append(row)\n",
        "file.close()\n",
        "\n",
        "salaries = []\n",
        "years = []\n",
        "\n",
        "for i in range(0, len(data)):\n",
        "  years.append(data[i][0])\n",
        "  salaries.append(data[i][1])\n",
        "\n",
        "for i in range(0, len(salaries)):\n",
        "  plt.plot(float(years[i]), float(salaries[i]), 'ro')\n",
        "\n",
        "plt.xlabel(\"Years\")\n",
        "plt.ylabel(\"Salaries\")\n"
      ]
    },
    {
      "cell_type": "markdown",
      "source": [
        "Calculate and print the mean, median and standard deviation of the data "
      ],
      "metadata": {
        "id": "FN3gZKb82CBy"
      }
    },
    {
      "cell_type": "code",
      "source": [
        "import csv \n",
        "import matplotlib.pyplot as plt \n",
        "import math\n",
        "\n",
        "filePath = \"/Salary_Data.csv\"\n",
        "\n",
        "with open(filePath) as file :\n",
        "    reader = csv.reader(file)\n",
        "    header = next(reader)\n",
        "    data = []\n",
        "    for row in reader :\n",
        "        data.append(row)\n",
        "file.close()\n",
        "\n",
        "salaries = []\n",
        "years = []\n",
        "\n",
        "for i in range(0, len(data)):\n",
        "  years.append(float(data[i][0]))\n",
        "  salaries.append(float(data[i][1]))\n",
        "\n",
        "sumOfSalaries = 0.0\n",
        "sumOfYears = 0.0\n",
        "\n",
        "for i in range(0, len(data)):\n",
        "  sumOfSalaries += salaries[i]\n",
        "  sumOfYears += years[i]\n",
        "\n",
        "print(\"Maen values\")\n",
        "print(\"Salary : \", sumOfSalaries/len(data))\n",
        "print(\"Years : \", sumOfYears/len(data))\n",
        "\n",
        "salaries.sort()\n",
        "years.sort()\n",
        "\n",
        "print(\"Median number\")\n",
        "print(\"Salary : \", salaries[math.floor(len(salaries)/2.0)])\n",
        "print(\"Years : \", years[math.floor(len(years)/2.0)])\n"
      ],
      "metadata": {
        "colab": {
          "base_uri": "https://localhost:8080/"
        },
        "id": "sjYcpp_h2Ezn",
        "outputId": "ffe7a3bf-1c7b-4f6b-ee7f-cc5fda7c9448"
      },
      "execution_count": 2,
      "outputs": [
        {
          "output_type": "stream",
          "name": "stdout",
          "text": [
            "Maen values\n",
            "Salary :  76003.0\n",
            "Years :  5.3133333333333335\n",
            "Median number\n",
            "Salary :  66029.0\n",
            "Years :  4.9\n"
          ]
        }
      ]
    },
    {
      "cell_type": "markdown",
      "source": [
        "Using the following link (https://www.statisticshowto.com/probability-and-statistics/regression-analysis/find-a-linear-regression-equation/) figure out the formula to do a linear regression and calculate m and b to fit mx + b \n",
        "Plot the points again and add a line that would show how your equation fits the data"
      ],
      "metadata": {
        "id": "0EhHLKVA8FrT"
      }
    },
    {
      "cell_type": "code",
      "source": [
        "import csv \n",
        "import matplotlib.pyplot as plt \n",
        "import math\n",
        "import numpy as np\n",
        "\n",
        "filePath = \"/Salary_Data.csv\"\n",
        "\n",
        "with open(filePath) as file :\n",
        "    reader = csv.reader(file)\n",
        "    header = next(reader)\n",
        "    data = []\n",
        "    for row in reader :\n",
        "        data.append(row)\n",
        "file.close()\n",
        "\n",
        "salaries = []\n",
        "years = []\n",
        "\n",
        "for i in range(0, len(data)):\n",
        "  years.append(float(data[i][0]))\n",
        "  salaries.append(float(data[i][1]))\n",
        "\n",
        "sumOfSalaries = 0.0\n",
        "sumOfYears = 0.0\n",
        "\n",
        "for i in range(0, len(data)):\n",
        "  sumOfSalaries += salaries[i]\n",
        "  sumOfYears += years[i]\n",
        "\n",
        "sumOfYears2 = 0.0\n",
        "sumOfMult = 0.0\n",
        "for i in range (0,len(salaries)):\n",
        "    sumOfYears2 += years[i] * years[i]\n",
        "    sumOfMult += salaries[i] * years[i]\n",
        "\n",
        "a = (sumOfSalaries * sumOfYears2 - sumOfYears * sumOfMult)/(len(salaries) * sumOfYears2 - sumOfYears * sumOfYears)\n",
        "\n",
        "b = (len(salaries) * sumOfMult - sumOfYears * sumOfSalaries)/(len(salaries) * sumOfYears2 - sumOfYears * sumOfYears)\n",
        "\n",
        "\n",
        "for i in range(0, len(salaries)):\n",
        "  plt.plot(float(years[i]), float(salaries[i]), 'ro')\n",
        "\n",
        "x = np.linspace(0,10)\n",
        "y = a + b*x\n",
        "plt.plot(x, y, '-r')\n",
        "c = \"Graph of y = \" + str(np.round(a,2)) + \" x + \" + str(np.round(b,2))\n",
        "plt.title(c)\n",
        "plt.xlabel('x', color='#1C2833')\n",
        "plt.ylabel('y', color='#1C2833')\n",
        "plt.legend(loc='upper left') \n",
        "plt.grid()\n",
        "plt.show()"
      ],
      "metadata": {
        "colab": {
          "base_uri": "https://localhost:8080/",
          "height": 313
        },
        "id": "5NmtNKPI8La2",
        "outputId": "7a951e6e-4f1b-485b-a4c4-ef0b6ec4aa56"
      },
      "execution_count": 6,
      "outputs": [
        {
          "output_type": "stream",
          "name": "stderr",
          "text": [
            "WARNING:matplotlib.legend:No handles with labels found to put in legend.\n"
          ]
        },
        {
          "output_type": "display_data",
          "data": {
            "text/plain": [
              "<Figure size 432x288 with 1 Axes>"
            ],
            "image/png": "[encoded data removed]"
          },
          "metadata": {
            "needs_background": "light"
          }
        }
      ]
    },
    {
      "cell_type": "markdown",
      "source": [
        "Repeat the same process, but this time calculate m and b with scipy (https://docs.scipy.org/doc/scipy/reference/generated/scipy.stats.linregress.html)"
      ],
      "metadata": {
        "id": "3vZe_b7aDjF9"
      }
    },
    {
      "cell_type": "code",
      "source": [
        "import csv \n",
        "import matplotlib.pyplot as plt\n",
        "import scipy \n",
        "import pandas as pd \n",
        "from scipy import stats\n",
        "\n",
        "filePath = \"/Salary_Data.csv\"\n",
        "\n",
        "\n",
        "\n",
        "with open(filePath) as file :\n",
        "    reader = csv.reader(file)\n",
        "    header = next(reader)\n",
        "    data = []\n",
        "    for row in reader :\n",
        "        data.append(row)\n",
        "file.close()\n",
        "\n",
        "salaries = []\n",
        "years = []\n",
        "\n",
        "for i in range(0, len(data)):\n",
        "  years.append(float(data[i][0]))\n",
        "  salaries.append(float(data[i][1]))\n",
        "\n",
        "for i in range(0, len(salaries)):\n",
        "  plt.plot(float(years[i]), float(salaries[i]), 'ro')\n",
        "\n",
        "plt.xlabel(\"Years\")\n",
        "plt.ylabel(\"Salaries\")\n",
        "\n",
        "print(years)\n",
        "result = stats.linregress(years,salaries)\n",
        "\n",
        "a = result.intercept\n",
        "b = result.slope\n",
        "\n",
        "x = np.linspace(0,10)\n",
        "y = a + b*x\n",
        "plt.plot(x, y, '-r')\n",
        "c = \"Graph of y = \" + str(np.round(a,2)) + \" x + \" + str(np.round(b,2))\n",
        "plt.title(c)\n",
        "plt.xlabel('x', color='#1C2833')\n",
        "plt.ylabel('y', color='#1C2833')\n",
        " \n"
      ],
      "metadata": {
        "colab": {
          "base_uri": "https://localhost:8080/",
          "height": 351
        },
        "id": "0DIWkkAtDpFx",
        "outputId": "eb3b943c-a899-496c-9375-30bb690bd12c"
      },
      "execution_count": 32,
      "outputs": [
        {
          "output_type": "stream",
          "name": "stdout",
          "text": [
            "[1.1, 1.3, 1.5, 2.0, 2.2, 2.9, 3.0, 3.2, 3.2, 3.7, 3.9, 4.0, 4.0, 4.1, 4.5, 4.9, 5.1, 5.3, 5.9, 6.0, 6.8, 7.1, 7.9, 8.2, 8.7, 9.0, 9.5, 9.6, 10.3, 10.5]\n"
          ]
        },
        {
          "output_type": "execute_result",
          "data": {
            "text/plain": [
              "Text(0, 0.5, 'y')"
            ]
          },
          "metadata": {},
          "execution_count": 32
        },
        {
          "output_type": "display_data",
          "data": {
            "text/plain": [
              "<Figure size 432x288 with 1 Axes>"
            ],
            "image/png": "[encoded data removed]"
          },
          "metadata": {
            "needs_background": "light"
          }
        }
      ]
    },
    {
      "cell_type": "markdown",
      "source": [
        "Calculate the average error (Mean Square Error and Mean Absolute Error) of the two models "
      ],
      "metadata": {
        "id": "my9C_FDkNExz"
      }
    },
    {
      "cell_type": "code",
      "source": [
        "from scipy.stats.morestats import yeojohnson_llf\n",
        "import csv \n",
        "import matplotlib.pyplot as plt\n",
        "import scipy \n",
        "import pandas as pd \n",
        "from scipy import stats\n",
        "import math\n",
        "\n",
        "filePath = \"/Salary_Data.csv\"\n",
        "\n",
        "\n",
        "\n",
        "with open(filePath) as file :\n",
        "    reader = csv.reader(file)\n",
        "    header = next(reader)\n",
        "    data = []\n",
        "    for row in reader :\n",
        "        data.append(row)\n",
        "file.close()\n",
        "\n",
        "salaries = []\n",
        "years = []\n",
        "\n",
        "for i in range(0, len(data)):\n",
        "  years.append(float(data[i][0]))\n",
        "  salaries.append(float(data[i][1]))\n",
        "\n",
        "print(years)\n",
        "result = stats.linregress(years,salaries)\n",
        "\n",
        "a = result.intercept\n",
        "b = result.slope\n",
        "\n",
        "x = 1\n",
        "y = a + b*x\n",
        "\n",
        "errorSum = 0.0\n",
        "\n",
        "for i in range(0, len(years)):\n",
        "  y = a + b*years[i];\n",
        "  errorSum += abs(salaries[i] - y)\n",
        "\n",
        "print(errorSum)\n",
        " \n"
      ],
      "metadata": {
        "colab": {
          "base_uri": "https://localhost:8080/"
        },
        "id": "k-oLQ1e6NGEL",
        "outputId": "8afb1163-6afa-4081-8a95-faef86f5438f"
      },
      "execution_count": 35,
      "outputs": [
        {
          "output_type": "stream",
          "name": "stdout",
          "text": [
            "[1.1, 1.3, 1.5, 2.0, 2.2, 2.9, 3.0, 3.2, 3.2, 3.7, 3.9, 4.0, 4.0, 4.1, 4.5, 4.9, 5.1, 5.3, 5.9, 6.0, 6.8, 7.1, 7.9, 8.2, 8.7, 9.0, 9.5, 9.6, 10.3, 10.5]\n",
            "139326.03868330616\n"
          ]
        }
      ]
    }
  ]
}